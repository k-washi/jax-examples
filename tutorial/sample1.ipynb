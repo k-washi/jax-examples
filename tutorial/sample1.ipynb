{
 "metadata": {
  "language_info": {
   "codemirror_mode": {
    "name": "ipython",
    "version": 3
   },
   "file_extension": ".py",
   "mimetype": "text/x-python",
   "name": "python",
   "nbconvert_exporter": "python",
   "pygments_lexer": "ipython3",
   "version": "3.8.5-final"
  },
  "orig_nbformat": 2,
  "kernelspec": {
   "name": "python3",
   "display_name": "Python 3",
   "language": "python"
  }
 },
 "nbformat": 4,
 "nbformat_minor": 2,
 "cells": [
  {
   "source": [
    "参考\n",
    "\n",
    "1. [JAX入門～高速なNumPyとして使いこなすためのチュートリアル～](https://qiita.com/koshian2/items/44a871386576b4f80aff)"
   ],
   "cell_type": "markdown",
   "metadata": {}
  },
  {
   "source": [
    "import jax.numpy as jnp"
   ],
   "cell_type": "code",
   "metadata": {},
   "execution_count": 1,
   "outputs": []
  },
  {
   "cell_type": "code",
   "execution_count": 2,
   "metadata": {},
   "outputs": [
    {
     "output_type": "stream",
     "name": "stderr",
     "text": [
      "WARNING:absl:No GPU/TPU found, falling back to CPU. (Set TF_CPP_MIN_LOG_LEVEL=0 and rerun for more info.)\n",
      "[[ 0.  1.  2.  3.  4.]\n",
      " [ 5.  6.  7.  8.  9.]\n",
      " [10. 11. 12. 13. 14.]\n",
      " [15. 16. 17. 18. 19.]\n",
      " [20. 21. 22. 23. 24.]]\n"
     ]
    }
   ],
   "source": [
    "# 配列の初期化\n",
    "x = jnp.arange(25, dtype=jnp.float32).reshape(5, 5)\n",
    "print(x)"
   ]
  },
  {
   "cell_type": "code",
   "execution_count": 4,
   "metadata": {},
   "outputs": [
    {
     "output_type": "stream",
     "name": "stdout",
     "text": [
      "[[  40.   90.  140.  190.  240.]\n [ 115.  290.  465.  640.  815.]\n [ 190.  490.  790. 1090. 1390.]\n [ 265.  690. 1115. 1540. 1965.]\n [ 340.  890. 1440. 1990. 2540.]]\n"
     ]
    }
   ],
   "source": [
    "# block_until_ready => jax内部の非同期処理による計算をまとめるため\n",
    "y = x + 1\n",
    "x_gram = jnp.dot(x, y.T).block_until_ready()\n",
    "print(x_gram)"
   ]
  },
  {
   "cell_type": "code",
   "execution_count": 5,
   "metadata": {},
   "outputs": [],
   "source": [
    "# jitによるXLAコンパイル\n",
    "# メモリや推論時間で有利\n",
    "# https://www.tensorflow.org/xla\n",
    "\n",
    "from jax import jit"
   ]
  },
  {
   "cell_type": "code",
   "execution_count": 7,
   "metadata": {},
   "outputs": [],
   "source": [
    "@jit\n",
    "def static_jax_dot():\n",
    "    x = jnp.arange(25, dtype=jnp.float32).reshape(5, 5)\n",
    "    x_gram = jnp.dot(x, x.T)\n",
    "    return x_gram"
   ]
  },
  {
   "cell_type": "code",
   "execution_count": 8,
   "metadata": {},
   "outputs": [
    {
     "output_type": "execute_result",
     "data": {
      "text/plain": [
       "DeviceArray([[  30.,   80.,  130.,  180.,  230.],\n",
       "             [  80.,  255.,  430.,  605.,  780.],\n",
       "             [ 130.,  430.,  730., 1030., 1330.],\n",
       "             [ 180.,  605., 1030., 1455., 1880.],\n",
       "             [ 230.,  780., 1330., 1880., 2430.]], dtype=float32)"
      ]
     },
     "metadata": {},
     "execution_count": 8
    }
   ],
   "source": [
    "static_jax_dot().block_until_ready()"
   ]
  },
  {
   "cell_type": "code",
   "execution_count": null,
   "metadata": {},
   "outputs": [],
   "source": [
    "# 以下の書き方も可能\n",
    "# jit(static_jax_dot)().block_until_ready()"
   ]
  },
  {
   "source": [
    "# Errorの例"
   ],
   "cell_type": "markdown",
   "metadata": {}
  },
  {
   "cell_type": "code",
   "execution_count": 10,
   "metadata": {},
   "outputs": [],
   "source": [
    "#jit関数内部にblock_until_ready\n",
    "# AttributeError: 'ShapedArray' object has no attribute 'block_until_ready'\n",
    "@jit\n",
    "def static_jax_dot_badexample():\n",
    "    x = jnp.arange(25, dtype=jnp.float32).reshape(5, 5)\n",
    "    x_gram = jnp.dot(x, x.T)\n",
    "    return x_gram.block_until_ready()\n",
    "\n",
    "#static_jax_dot_badexample()"
   ]
  },
  {
   "cell_type": "code",
   "execution_count": 12,
   "metadata": {},
   "outputs": [],
   "source": [
    "#jitでラップした関数に引数を渡す時\n",
    "#ConcretizationTypeError: Abstract tracer value encountered where concrete value is expected.\n",
    "@jit\n",
    "def variable_jax_dot_badexample(size):\n",
    "    x = jnp.arange(size**2, dtype=jnp.float32).reshape(size, size)\n",
    "    x_gram = jnp.dot(x, x.T)\n",
    "    return x_gram\n",
    "\n",
    "#variable_jax_dot_badexample(5)\n"
   ]
  },
  {
   "cell_type": "code",
   "execution_count": 13,
   "metadata": {},
   "outputs": [
    {
     "output_type": "execute_result",
     "data": {
      "text/plain": [
       "DeviceArray([[  30.,   80.,  130.,  180.,  230.],\n",
       "             [  80.,  255.,  430.,  605.,  780.],\n",
       "             [ 130.,  430.,  730., 1030., 1330.],\n",
       "             [ 180.,  605., 1030., 1455., 1880.],\n",
       "             [ 230.,  780., 1330., 1880., 2430.]], dtype=float32)"
      ]
     },
     "metadata": {},
     "execution_count": 13
    }
   ],
   "source": [
    "# ↑の引数を渡したい時は、どうするか\n",
    "# 1. static_argnums : 引数の何番目が固定値であるか\n",
    "def variable_jax_dot(size):\n",
    "    x = jnp.arange(size**2, dtype=jnp.float32).reshape(size, size)\n",
    "    x_gram = jnp.dot(x, x.T)\n",
    "    return x_gram\n",
    "\n",
    "jit(variable_jax_dot, static_argnums=(0,))(5).block_until_ready()\n"
   ]
  },
  {
   "cell_type": "code",
   "execution_count": 14,
   "metadata": {},
   "outputs": [],
   "source": [
    "# 2. partialでjitをデコレート\n",
    "from jax import partial"
   ]
  },
  {
   "cell_type": "code",
   "execution_count": 15,
   "metadata": {},
   "outputs": [
    {
     "output_type": "execute_result",
     "data": {
      "text/plain": [
       "DeviceArray([[  30.,   80.,  130.,  180.,  230.],\n",
       "             [  80.,  255.,  430.,  605.,  780.],\n",
       "             [ 130.,  430.,  730., 1030., 1330.],\n",
       "             [ 180.,  605., 1030., 1455., 1880.],\n",
       "             [ 230.,  780., 1330., 1880., 2430.]], dtype=float32)"
      ]
     },
     "metadata": {},
     "execution_count": 15
    }
   ],
   "source": [
    "@partial(jit, static_argnums=(0,))\n",
    "def variable_jax_dot_deco(size):\n",
    "    x = jnp.arange(size**2, dtype=jnp.float32).reshape(size, size)\n",
    "    x_gram = jnp.dot(x, x.T)\n",
    "    return x_gram\n",
    "\n",
    "variable_jax_dot_deco(5).block_until_ready()\n"
   ]
  },
  {
   "source": [
    "# パフォーマンスの比較"
   ],
   "cell_type": "markdown",
   "metadata": {}
  },
  {
   "cell_type": "code",
   "execution_count": 27,
   "metadata": {},
   "outputs": [
    {
     "output_type": "stream",
     "name": "stdout",
     "text": [
      "size = 10 repeat = 10000\n",
      "6.15 µs ± 318 ns per loop (mean ± std. dev. of 7 runs, 100000 loops each)\n",
      "2.1 ms ± 56.9 µs per loop (mean ± std. dev. of 7 runs, 100 loops each)\n",
      "51.8 µs ± 1.66 µs per loop (mean ± std. dev. of 7 runs, 10000 loops each)\n",
      "size = 100 repeat = 1000\n",
      "59.6 µs ± 1.74 µs per loop (mean ± std. dev. of 7 runs, 10000 loops each)\n",
      "2.23 ms ± 166 µs per loop (mean ± std. dev. of 7 runs, 100 loops each)\n",
      "98.5 µs ± 9.86 µs per loop (mean ± std. dev. of 7 runs, 10000 loops each)\n",
      "size = 1000 repeat = 100\n",
      "4.82 ms ± 162 µs per loop (mean ± std. dev. of 7 runs, 100 loops each)\n",
      "4.48 ms ± 1.03 ms per loop (mean ± std. dev. of 7 runs, 1 loop each)\n",
      "210 µs ± 23.1 µs per loop (mean ± std. dev. of 7 runs, 1000 loops each)\n",
      "size = 10000 repeat = 10\n",
      "839 ms ± 24.8 ms per loop (mean ± std. dev. of 7 runs, 1 loop each)\n",
      "694 ms ± 50 ms per loop (mean ± std. dev. of 7 runs, 1 loop each)\n",
      "92.1 ms ± 5.19 ms per loop (mean ± std. dev. of 7 runs, 10 loops each)\n"
     ]
    }
   ],
   "source": [
    "# size > 1000でjax + jitが早くなった\n",
    "import numpy as np\n",
    "import jax.numpy as jnp\n",
    "from jax import jit, partial\n",
    "\n",
    "# (size, size)の行列を作ってMod計算\n",
    "@partial(jit, static_argnums=(0,))\n",
    "def jax_jit_mod(size):\n",
    "    x = jnp.arange(size, dtype=jnp.int32)\n",
    "    mat = x[None, :] * x[:, None] # (size, size)\n",
    "    return mat % 256\n",
    "\n",
    "def jax_nojit_mod(size):\n",
    "    x = jnp.arange(size, dtype=jnp.int32)\n",
    "    mat = x[None, :] * x[:, None]\n",
    "    return mat % 256\n",
    "\n",
    "def numpy_mod(size):\n",
    "    x = np.arange(size, dtype=np.int32)\n",
    "    mat = x[None, :] * x[:, None]\n",
    "    return mat % 256\n",
    "\n",
    "for i in range(4):\n",
    "    size = 10**(i+1)\n",
    "    repeat = 10**(4-i)\n",
    "    print(\"size =\", size, \"repeat =\", repeat)\n",
    "    %timeit numpy_mod(size)\n",
    "    %timeit jax_nojit_mod(size).block_until_ready() # jitなしJAX\n",
    "    %timeit jax_jit_mod(size).block_until_ready() # jitありJAX"
   ]
  },
  {
   "cell_type": "code",
   "execution_count": 29,
   "metadata": {},
   "outputs": [
    {
     "output_type": "stream",
     "name": "stdout",
     "text": [
      "11.3 ms ± 1.5 ms per loop (mean ± std. dev. of 7 runs, 100 loops each)\n"
     ]
    }
   ],
   "source": [
    "import jax\n",
    "# deviceの指定\n",
    "# devicesは実験的機能で変更される可能性がある\n",
    "def dot_function():\n",
    "    x = jnp.arange(1000**2, dtype=jnp.float32).reshape(1000, 1000)\n",
    "    return jnp.dot(x, x.T)\n",
    "\n",
    "\n",
    "%timeit -n 100 jit(dot_function, device=jax.devices(\"cpu\")[0])().block_until_ready()"
   ]
  },
  {
   "source": [
    "# Numpy配列を併用する場合"
   ],
   "cell_type": "markdown",
   "metadata": {}
  },
  {
   "cell_type": "code",
   "execution_count": 30,
   "metadata": {},
   "outputs": [],
   "source": [
    "import cv2\n",
    "from jax import device_put"
   ]
  },
  {
   "cell_type": "code",
   "execution_count": 35,
   "metadata": {},
   "outputs": [
    {
     "output_type": "stream",
     "name": "stdout",
     "text": [
      "331 µs ± 31.9 µs per loop (mean ± std. dev. of 7 runs, 1000 loops each)\n"
     ]
    }
   ],
   "source": [
    "@jit\n",
    "def blend_color(x):\n",
    "    x = device_put(x)\n",
    "    x = x[:, :, ::-1].astype(jnp.float32) / 255.\n",
    "    blend = jnp.ones(x.shape[:-1], dtype=jnp.float32)[..., None] # h, w, c, 1\n",
    "    blend = blend * (jnp.array([235, 86, 230], dtype=jnp.float32).reshape(1, 1, -1) / 255.0)\n",
    "\n",
    "    a = 2 * x * blend + x ** 2 * (1 - 2 * blend)\n",
    "    b = 2 * x * (1 - blend) + jnp.sqrt(x) * (2 * blend - 1)\n",
    "    out = (blend < 0.5) * 2 + (blend >= 0.5) * b\n",
    "\n",
    "    out = (out * 255.).astype(jnp.uint8)\n",
    "    return out\n",
    "\n",
    "img_path = \"../data/sample.jpg\"\n",
    "img = cv2.imread(img_path)\n",
    "if img is not None:\n",
    "    %timeit blend_color(img).block_until_ready()\n",
    "else:\n",
    "    print(f\"Can not read {img_path}\")"
   ]
  },
  {
   "cell_type": "code",
   "execution_count": null,
   "metadata": {},
   "outputs": [],
   "source": []
  }
 ]
}