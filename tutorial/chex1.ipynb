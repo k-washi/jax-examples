{
 "metadata": {
  "language_info": {
   "codemirror_mode": {
    "name": "ipython",
    "version": 3
   },
   "file_extension": ".py",
   "mimetype": "text/x-python",
   "name": "python",
   "nbconvert_exporter": "python",
   "pygments_lexer": "ipython3",
   "version": "3.8.5-final"
  },
  "orig_nbformat": 2,
  "kernelspec": {
   "name": "python3",
   "display_name": "Python 3",
   "language": "python"
  }
 },
 "nbformat": 4,
 "nbformat_minor": 2,
 "cells": [
  {
   "source": [
    "# Chex : 信頼性のあるJAXコードを書くためのライブラリ\n",
    "\n",
    "This includes utils to help:\n",
    "\n",
    "    Instrument your code (e.g. assertions)\n",
    "    Debug (e.g. transforming pmaps in vmaps within a context manager).\n",
    "    Test JAX code across many variants (e.g. jitted vs non-jitted)"
   ],
   "cell_type": "markdown",
   "metadata": {}
  },
  {
   "cell_type": "code",
   "execution_count": 7,
   "metadata": {},
   "outputs": [],
   "source": [
    "import jax.numpy as jnp\n",
    "import jax\n",
    "import chex"
   ]
  },
  {
   "cell_type": "code",
   "execution_count": 3,
   "metadata": {},
   "outputs": [],
   "source": [
    "@chex.dataclass\n",
    "class Parameters:\n",
    "    x: chex.ArrayDevice\n",
    "    y: chex.ArrayDevice"
   ]
  },
  {
   "cell_type": "code",
   "execution_count": 5,
   "metadata": {},
   "outputs": [
    {
     "output_type": "stream",
     "name": "stderr",
     "text": [
      "WARNING:absl:No GPU/TPU found, falling back to CPU. (Set TF_CPP_MIN_LOG_LEVEL=0 and rerun for more info.)\n"
     ]
    }
   ],
   "source": [
    "parameters = Parameters(\n",
    "    x = jnp.ones((2, 2)),\n",
    "    y = jnp.ones((1, 2)),\n",
    ")"
   ]
  },
  {
   "cell_type": "code",
   "execution_count": 10,
   "metadata": {},
   "outputs": [],
   "source": [
    "# ValueError: Mappable dataclass constructor doesn't support positional args.\n",
    "#parameters = Parameters(\n",
    "#    jnp.ones((2, 2)),\n",
    "#    jnp.ones((1, 2)),\n",
    "#)"
   ]
  },
  {
   "source": [
    "# Assertions"
   ],
   "cell_type": "markdown",
   "metadata": {}
  },
  {
   "cell_type": "code",
   "execution_count": 11,
   "metadata": {},
   "outputs": [],
   "source": [
    "from chex import assert_shape, assert_rank"
   ]
  },
  {
   "cell_type": "code",
   "execution_count": 13,
   "metadata": {},
   "outputs": [],
   "source": [
    "x = jnp.ones((2,3), dtype=jnp.float32)"
   ]
  },
  {
   "cell_type": "code",
   "execution_count": 16,
   "metadata": {},
   "outputs": [],
   "source": [
    "assert_shape(x, (2, 3))"
   ]
  },
  {
   "source": [
    "# Test variants\n",
    "\n",
    "jitコンパイルされたバージョンとされていないバージョンの両方のテストを実行できる"
   ],
   "cell_type": "markdown",
   "metadata": {}
  },
  {
   "cell_type": "code",
   "execution_count": 22,
   "metadata": {},
   "outputs": [],
   "source": [
    "from absl.testing import parameterized"
   ]
  },
  {
   "cell_type": "code",
   "execution_count": 23,
   "metadata": {},
   "outputs": [],
   "source": [
    "def fn(x, y):\n",
    "    return x + y"
   ]
  },
  {
   "cell_type": "code",
   "execution_count": 27,
   "metadata": {},
   "outputs": [],
   "source": [
    "class ExampleTest(chex.TestCase):\n",
    "    @chex.variants(with_jit=True, without_jit=True)\n",
    "    def test_ex1(self):\n",
    "        var_fn = self.variant(fn)\n",
    "        self.assertEqual(fn(1, 2), 3)\n",
    "        self.assertEqual(var_fn(1, 2), fn(1, 2))\n",
    "    \n",
    "    \n",
    "class ExampleParameterizedTest(parameterized.TestCase):\n",
    "    @chex.variants(with_jit=True, without_jit=True)\n",
    "    @parameterized.named_parameters(\n",
    "        ('case_positive', 1, 2, 3),\n",
    "        ('case_negative', -1, -2, -3),\n",
    "    )\n",
    "    def test(self, arg_1, arg_2, expected):\n",
    "        @self.variant\n",
    "        def var_fn(x, y):\n",
    "            return x + y\n",
    "\n",
    "        self.assertEqual(var_fn(arg_1, arg_2), expected)\n",
    "    \n"
   ]
  },
  {
   "cell_type": "code",
   "execution_count": null,
   "metadata": {},
   "outputs": [],
   "source": []
  }
 ]
}